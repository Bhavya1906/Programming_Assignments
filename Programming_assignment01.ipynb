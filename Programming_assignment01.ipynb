{
 "cells": [
  {
   "cell_type": "markdown",
   "id": "7ade93c1",
   "metadata": {},
   "source": [
    "### 1. Write a Python program to print &quot;Hello Python&quot;?"
   ]
  },
  {
   "cell_type": "code",
   "execution_count": 17,
   "id": "79e1966e",
   "metadata": {},
   "outputs": [
    {
     "name": "stdout",
     "output_type": "stream",
     "text": [
      "Hello Python\n"
     ]
    }
   ],
   "source": [
    "print(\"Hello Python\")"
   ]
  },
  {
   "cell_type": "markdown",
   "id": "22e26f72",
   "metadata": {},
   "source": [
    "### 2. Write a Python program to do arithmetical operations addition and division.?"
   ]
  },
  {
   "cell_type": "code",
   "execution_count": 18,
   "id": "4eb8d1cc",
   "metadata": {},
   "outputs": [
    {
     "name": "stdout",
     "output_type": "stream",
     "text": [
      "Enter a number: 56\n",
      "Enter a number: 78\n",
      "Addition of a + b is 134\n",
      "Division of a / b is 0.717948717948718\n"
     ]
    }
   ],
   "source": [
    "a = int(input('Enter a number: '))\n",
    "b = int(input('Enter a number: '))\n",
    "\n",
    "print('Addition of a + b is',a+b)\n",
    "print('Division of a / b is',a/b)"
   ]
  },
  {
   "cell_type": "markdown",
   "id": "5a42e28e",
   "metadata": {},
   "source": [
    "### 3. Write a Python program to find the area of a triangle?"
   ]
  },
  {
   "cell_type": "code",
   "execution_count": 19,
   "id": "fcac7e62",
   "metadata": {},
   "outputs": [
    {
     "name": "stdout",
     "output_type": "stream",
     "text": [
      "Enter a number: 45\n",
      "Enter a number: 4\n",
      "Area of triangle is 90.0\n"
     ]
    }
   ],
   "source": [
    "base = int(input('Enter a number: '))\n",
    "height = int(input('Enter a number: '))\n",
    "\n",
    "Area_of_triangle = (0.5*base*height)\n",
    "\n",
    "print('Area of triangle is', Area_of_triangle)"
   ]
  },
  {
   "cell_type": "markdown",
   "id": "e0ed4274",
   "metadata": {},
   "source": [
    "### 4. Write a Python program to swap two variables?"
   ]
  },
  {
   "cell_type": "code",
   "execution_count": 20,
   "id": "7b935744",
   "metadata": {},
   "outputs": [
    {
     "name": "stdout",
     "output_type": "stream",
     "text": [
      "The value after swapping a is: 7\n",
      "The value after swapping b is: 5\n"
     ]
    }
   ],
   "source": [
    "a = 5\n",
    "b = 7\n",
    "temp = a\n",
    "a = b\n",
    "b = temp\n",
    "print('The value after swapping a is:',a)\n",
    "print('The value after swapping b is:',b)"
   ]
  },
  {
   "cell_type": "markdown",
   "id": "a6caf33f",
   "metadata": {},
   "source": [
    "### 5. Write a Python program to generate a random number?"
   ]
  },
  {
   "cell_type": "code",
   "execution_count": 21,
   "id": "9078ac8b",
   "metadata": {},
   "outputs": [
    {
     "name": "stdout",
     "output_type": "stream",
     "text": [
      "61\n"
     ]
    }
   ],
   "source": [
    "import random\n",
    "print(random.randint(2,87))"
   ]
  },
  {
   "cell_type": "code",
   "execution_count": null,
   "id": "c10f60fb",
   "metadata": {},
   "outputs": [],
   "source": []
  }
 ],
 "metadata": {
  "kernelspec": {
   "display_name": "Python 3 (ipykernel)",
   "language": "python",
   "name": "python3"
  },
  "language_info": {
   "codemirror_mode": {
    "name": "ipython",
    "version": 3
   },
   "file_extension": ".py",
   "mimetype": "text/x-python",
   "name": "python",
   "nbconvert_exporter": "python",
   "pygments_lexer": "ipython3",
   "version": "3.9.12"
  }
 },
 "nbformat": 4,
 "nbformat_minor": 5
}
